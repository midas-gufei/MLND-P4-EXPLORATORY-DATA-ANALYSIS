{
 "cells": [
  {
   "cell_type": "markdown",
   "metadata": {},
   "source": [
    "# 机器学习（入门）探索数据集"
   ]
  },
  {
   "cell_type": "markdown",
   "metadata": {},
   "source": [
    "## 研究项目：《泰坦尼克号》生还探索"
   ]
  },
  {
   "cell_type": "markdown",
   "metadata": {},
   "source": [
    "### 序\n",
    "       1912年的一天，当时世界上体积最庞大、内部设施最豪华的客运轮船，有“永不沉没”美誉的泰坦尼克号，在她的处女航中撞冰山沉入大西洋底3700米处，船上1500多人丧生。一百多年后，人们对这一场旷世海难依然充满好奇，从电影作品到考古探索，越来越多的故事与猜想。那么，这艘在上世纪初无与伦比的豪华巨轮，怎么说翻就翻了？在翻船前，除了杰克与露丝的爱情，泰坦尼克号还经历了什么？\n",
    "       那么到底是什么影响了乘客的生还，透过生还数据，我们能得到什么样的结果？接下来，我会通过数据分析告诉你哪些特征会影响生存率。\n",
    "### 数据集\n",
    "      著名的数据分析竞赛网站Kaggle上，举行了很多数据分析比赛，其中比较著名的就有 泰坦尼克号乘客生还预测 。\n",
    "      Kaggle提供的数据集中，包括泰坦尼克号上 2224 名乘客和船员中 891 名的人口学数据和乘客基本信息。\n",
    "### 数据字典\n",
    "|属性\t       |定义\t             |值说明|\n",
    "|:-|:---|:---|\n",
    "|**PassengerId**|乘客编号            |\n",
    "|**Survived**\t|生存情况            |0：死亡, 1：生存|\n",
    "|**Pclass**\t    |票类型\t     |1：上层, 2：中间层, 3：底层|\n",
    "|**Name**\t    |乘客姓名\t|\n",
    "|**Sex**\t    |性别\t|\n",
    "|**Age**\t    |年龄\t|\n",
    "|**SibSp**\t    |兄弟/姐妹\t|\n",
    "|**Parch**\t    |父母/孩子\t|\n",
    "|**Ticket**\t    |票号\t|\n",
    "|**Fare**\t    |票价\t|\n",
    "|**Cabin**\t    |舱号\t|\n",
    "|**Embarked**\t|出发港 |C：Cherbourg（瑟堡）, Q：Queenstown（皇后镇）, S：Southampton（南安普顿）|"
   ]
  },
  {
   "cell_type": "markdown",
   "metadata": {},
   "source": [
    "### 加载数据"
   ]
  },
  {
   "cell_type": "code",
   "execution_count": 4,
   "metadata": {},
   "outputs": [
    {
     "name": "stdout",
     "output_type": "stream",
     "text": [
      "<class 'pandas.core.frame.DataFrame'>\n",
      "RangeIndex: 891 entries, 0 to 890\n",
      "Data columns (total 12 columns):\n",
      "PassengerId    891 non-null int64\n",
      "Survived       891 non-null int64\n",
      "Pclass         891 non-null int64\n",
      "Name           891 non-null object\n",
      "Sex            891 non-null object\n",
      "Age            714 non-null float64\n",
      "SibSp          891 non-null int64\n",
      "Parch          891 non-null int64\n",
      "Ticket         891 non-null object\n",
      "Fare           891 non-null float64\n",
      "Cabin          204 non-null object\n",
      "Embarked       889 non-null object\n",
      "dtypes: float64(2), int64(5), object(5)\n",
      "memory usage: 83.6+ KB\n"
     ]
    }
   ],
   "source": [
    "# 导入相关库\n",
    "import pandas as pandas\n",
    "import matplotlib.pyplot as plt\n",
    "\n",
    "%matplotlib inline\n",
    "\n",
    "# 读取'titanic-data.csv'\n",
    "csv = pandas.read_csv('./titanic-data.csv')\n",
    "csv.info()"
   ]
  },
  {
   "cell_type": "code",
   "execution_count": null,
   "metadata": {
    "collapsed": true
   },
   "outputs": [],
   "source": []
  },
  {
   "cell_type": "code",
   "execution_count": null,
   "metadata": {
    "collapsed": true
   },
   "outputs": [],
   "source": []
  }
 ],
 "metadata": {
  "kernelspec": {
   "display_name": "Python 3",
   "language": "python",
   "name": "python3"
  },
  "language_info": {
   "codemirror_mode": {
    "name": "ipython",
    "version": 3
   },
   "file_extension": ".py",
   "mimetype": "text/x-python",
   "name": "python",
   "nbconvert_exporter": "python",
   "pygments_lexer": "ipython3",
   "version": "3.6.3"
  }
 },
 "nbformat": 4,
 "nbformat_minor": 2
}
